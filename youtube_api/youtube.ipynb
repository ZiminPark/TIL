{
 "cells": [
  {
   "cell_type": "code",
   "execution_count": 4,
   "metadata": {},
   "outputs": [],
   "source": [
    "import googleapiclient.discovery\n",
    "import googleapiclient.errors\n",
    "import youtube_dl"
   ]
  },
  {
   "cell_type": "code",
   "execution_count": 5,
   "metadata": {},
   "outputs": [],
   "source": [
    "# https://googleapis.github.io/google-api-python-client/docs/dyn/youtube_v3.html\n",
    "# https://developers.google.com/youtube/v3/docs/playlistItems/list?hl=ko"
   ]
  },
  {
   "cell_type": "code",
   "execution_count": 6,
   "metadata": {},
   "outputs": [],
   "source": [
    "from dotenv import load_dotenv\n",
    "load_dotenv()\n",
    "import os"
   ]
  },
  {
   "cell_type": "code",
   "execution_count": 7,
   "metadata": {},
   "outputs": [
    {
     "name": "stdout",
     "output_type": "stream",
     "text": [
      "[('[저금통]은 무대뽀 ‘랩, 힙합’ 앨범입니다 | [NEWSLETTER] 이센스', 'm0Xl7mcN0wE'), ('이렇게 입으면 100% 넘어감. 상황별 여름 코디 모음', '9r93Bhf2aUA'), ('토스 사람들 진짜 이래요? - 토린이의 일기 본격 해부', '4LNNkcXCNYY')]\n"
     ]
    }
   ],
   "source": [
    "def get_watch_later_videos(api_key, playlist_id):\n",
    "    youtube = googleapiclient.discovery.build(\"youtube\", \"v3\", developerKey=api_key)\n",
    "\n",
    "    request = youtube.playlistItems().list(\n",
    "        part=\"snippet\",\n",
    "        maxResults=50,\n",
    "        playlistId=playlist_id\n",
    "    )\n",
    "    response = request.execute()\n",
    "\n",
    "    watch_later_videos = []\n",
    "    for item in response[\"items\"]:\n",
    "        video_title = item[\"snippet\"][\"title\"]\n",
    "        video_id = item[\"snippet\"][\"resourceId\"][\"videoId\"]\n",
    "        watch_later_videos.append((video_title, video_id))\n",
    "\n",
    "    return watch_later_videos\n",
    "\n",
    "api_key = os.getenv(\"YOUTUBE_API_KEY\")\n",
    "playlist_id = os.getenv(\"PLAYLIST_ID\") \n",
    "watch_later_videos = get_watch_later_videos(api_key, playlist_id)\n",
    "print(watch_later_videos)\n"
   ]
  },
  {
   "cell_type": "code",
   "execution_count": 8,
   "metadata": {},
   "outputs": [],
   "source": [
    "def download_videos(video_urls):\n",
    "    ydl_opts = {}\n",
    "\n",
    "    with youtube_dl.YoutubeDL(ydl_opts) as ydl:\n",
    "        ydl.download(video_urls)"
   ]
  },
  {
   "cell_type": "code",
   "execution_count": 9,
   "metadata": {},
   "outputs": [],
   "source": [
    "video_url = [f\"https://www.youtube.com/watch?v={video_id}\" for _, video_id in watch_later_videos]"
   ]
  },
  {
   "cell_type": "code",
   "execution_count": 10,
   "metadata": {},
   "outputs": [
    {
     "data": {
      "text/plain": [
       "['https://www.youtube.com/watch?v=m0Xl7mcN0wE',\n",
       " 'https://www.youtube.com/watch?v=9r93Bhf2aUA',\n",
       " 'https://www.youtube.com/watch?v=4LNNkcXCNYY']"
      ]
     },
     "execution_count": 10,
     "metadata": {},
     "output_type": "execute_result"
    }
   ],
   "source": [
    "video_url"
   ]
  },
  {
   "cell_type": "code",
   "execution_count": 1,
   "metadata": {},
   "outputs": [],
   "source": [
    "# download_videos(video_url) # this doesn't work for some reason. use the command line instead"
   ]
  },
  {
   "cell_type": "code",
   "execution_count": null,
   "metadata": {},
   "outputs": [],
   "source": []
  }
 ],
 "metadata": {
  "kernelspec": {
   "display_name": "Python 3",
   "language": "python",
   "name": "python3"
  },
  "language_info": {
   "codemirror_mode": {
    "name": "ipython",
    "version": 3
   },
   "file_extension": ".py",
   "mimetype": "text/x-python",
   "name": "python",
   "nbconvert_exporter": "python",
   "pygments_lexer": "ipython3",
   "version": "3.9.16"
  },
  "orig_nbformat": 4
 },
 "nbformat": 4,
 "nbformat_minor": 2
}
